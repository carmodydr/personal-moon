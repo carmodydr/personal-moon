{
 "cells": [
  {
   "cell_type": "markdown",
   "metadata": {},
   "source": [
    "What do I bring to this discussion? Is there proof I can storytell? Bring in anecdotes from teaching.\n",
    "\n",
    "Narrative arcs (cf. Vonnegut) to add suspense, anticipation, flow\n",
    "\n",
    "Character driven. People are most concerned with people.\n",
    "\n",
    "Engage the senses. People *experience* good stories, not just hear them.\n",
    "\n",
    "Provide anecdotes, but back them up with data."
   ]
  },
  {
   "cell_type": "code",
   "execution_count": null,
   "metadata": {
    "collapsed": true
   },
   "outputs": [],
   "source": []
  }
 ],
 "metadata": {
  "kernelspec": {
   "display_name": "Python 2",
   "language": "python",
   "name": "python2"
  },
  "language_info": {
   "codemirror_mode": {
    "name": "ipython",
    "version": 2
   },
   "file_extension": ".py",
   "mimetype": "text/x-python",
   "name": "python",
   "nbconvert_exporter": "python",
   "pygments_lexer": "ipython2",
   "version": "2.7.11"
  }
 },
 "nbformat": 4,
 "nbformat_minor": 0
}
