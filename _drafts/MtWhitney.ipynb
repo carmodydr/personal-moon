{
 "cells": [
  {
   "cell_type": "markdown",
   "metadata": {},
   "source": [
    "Write a retrospective, with images. And maybe some visualization of the route.\n",
    "\n",
    "image: http://www.willtrek.com/adventure/destinations/mt-whitney/\n",
    "gpx/kmz: https://sites.google.com/site/mtwhitneytrailinfo/MtWhitneyTrail/waypoints\n",
    "doarama\n"
   ]
  }
 ],
 "metadata": {
  "kernelspec": {
   "display_name": "Python 2",
   "language": "python",
   "name": "python2"
  },
  "language_info": {
   "codemirror_mode": {
    "name": "ipython",
    "version": 2
   },
   "file_extension": ".py",
   "mimetype": "text/x-python",
   "name": "python",
   "nbconvert_exporter": "python",
   "pygments_lexer": "ipython2",
   "version": "2.7.11"
  }
 },
 "nbformat": 4,
 "nbformat_minor": 0
}
