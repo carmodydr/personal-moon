{
 "cells": [
  {
   "cell_type": "markdown",
   "metadata": {},
   "source": [
    "What do I bring to this discussion? Is there proof I can storytell? Bring in anecdotes from teaching.\n",
    "\n",
    "Narrative arcs (cf. Vonnegut) to add suspense, anticipation, flow\n",
    "\n",
    "Character driven. People are most concerned with people.\n",
    "\n",
    "Engage the senses. People *experience* good stories, not just hear them.\n",
    "\n",
    "Provide anecdotes, but back them up with data."
   ]
  },
  {
   "cell_type": "markdown",
   "metadata": {},
   "source": [
    "E.F. Schumacher:\n",
    "> \"If the mind cannot bring to the world a set - or, shall we say, a tool-box - of powerful ideas, the world must appear to it a chaos, a mass of unrelated phenomena, of meaningless events. All traditional philsophy is an attempt to create an orderly system of ideas by which to live and to interpret the world.\"\n",
    "\n",
    "Sagan:\n",
    "depronvicialization\n",
    "\n",
    "Diamond:\n",
    ">\"to science we owe dramatic changes in our smug self-image.\"\n",
    "\n",
    "Gleick:\n",
    ">\"ordinary people are more interested in friends and family than in science.\"\n"
   ]
  },
  {
   "cell_type": "code",
   "execution_count": null,
   "metadata": {
    "collapsed": true
   },
   "outputs": [],
   "source": []
  }
 ],
 "metadata": {
  "kernelspec": {
   "display_name": "Python 2",
   "language": "python",
   "name": "python2"
  },
  "language_info": {
   "codemirror_mode": {
    "name": "ipython",
    "version": 2
   },
   "file_extension": ".py",
   "mimetype": "text/x-python",
   "name": "python",
   "nbconvert_exporter": "python",
   "pygments_lexer": "ipython2",
   "version": "2.7.11"
  }
 },
 "nbformat": 4,
 "nbformat_minor": 0
}
